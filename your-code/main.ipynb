{
 "cells": [
  {
   "cell_type": "code",
   "execution_count": 5,
   "id": "8d878fa4",
   "metadata": {},
   "outputs": [],
   "source": [
    "#1. Import the NUMPY package under the name np.\n",
    "import numpy as np"
   ]
  },
  {
   "cell_type": "code",
   "execution_count": 6,
   "id": "32f7820f",
   "metadata": {},
   "outputs": [
    {
     "name": "stdout",
     "output_type": "stream",
     "text": [
      "blas_mkl_info:\n",
      "    libraries = ['mkl_rt']\n",
      "    library_dirs = ['C:/Users/Arnau/anaconda3\\\\Library\\\\lib']\n",
      "    define_macros = [('SCIPY_MKL_H', None), ('HAVE_CBLAS', None)]\n",
      "    include_dirs = ['C:/Users/Arnau/anaconda3\\\\Library\\\\include']\n",
      "blas_opt_info:\n",
      "    libraries = ['mkl_rt']\n",
      "    library_dirs = ['C:/Users/Arnau/anaconda3\\\\Library\\\\lib']\n",
      "    define_macros = [('SCIPY_MKL_H', None), ('HAVE_CBLAS', None)]\n",
      "    include_dirs = ['C:/Users/Arnau/anaconda3\\\\Library\\\\include']\n",
      "lapack_mkl_info:\n",
      "    libraries = ['mkl_rt']\n",
      "    library_dirs = ['C:/Users/Arnau/anaconda3\\\\Library\\\\lib']\n",
      "    define_macros = [('SCIPY_MKL_H', None), ('HAVE_CBLAS', None)]\n",
      "    include_dirs = ['C:/Users/Arnau/anaconda3\\\\Library\\\\include']\n",
      "lapack_opt_info:\n",
      "    libraries = ['mkl_rt']\n",
      "    library_dirs = ['C:/Users/Arnau/anaconda3\\\\Library\\\\lib']\n",
      "    define_macros = [('SCIPY_MKL_H', None), ('HAVE_CBLAS', None)]\n",
      "    include_dirs = ['C:/Users/Arnau/anaconda3\\\\Library\\\\include']\n"
     ]
    }
   ],
   "source": [
    "#2. Print the NUMPY version and the configuration.\n",
    "np.__version__\n",
    "np.show_config()"
   ]
  },
  {
   "cell_type": "code",
   "execution_count": 7,
   "id": "c4ba3378",
   "metadata": {},
   "outputs": [],
   "source": [
    "#3. Generate a 2x3x5 3-dimensional array with random values.\n",
    "#Assign the array to variable \"a\"\n",
    "# Challenge: there are at least three easy ways that use numpy to generate random arrays. \n",
    "#How many ways can you find? one\n",
    "a = np.random.random((2,3,5))"
   ]
  },
  {
   "cell_type": "code",
   "execution_count": 8,
   "id": "8988cd28",
   "metadata": {},
   "outputs": [
    {
     "data": {
      "text/plain": [
       "array([[[0.54122143, 0.29394776, 0.39433515, 0.98615522, 0.2438442 ],\n",
       "        [0.92123349, 0.92361391, 0.17855195, 0.53843505, 0.65797333],\n",
       "        [0.54238632, 0.81519148, 0.13468008, 0.35685224, 0.09328805]],\n",
       "\n",
       "       [[0.78708453, 0.32906167, 0.49241609, 0.4902423 , 0.06147967],\n",
       "        [0.67899252, 0.86031725, 0.82226614, 0.33009282, 0.34786725],\n",
       "        [0.69910859, 0.57237564, 0.48789653, 0.94614846, 0.15348179]]])"
      ]
     },
     "execution_count": 8,
     "metadata": {},
     "output_type": "execute_result"
    }
   ],
   "source": [
    "#4. Print a.\n",
    "a"
   ]
  },
  {
   "cell_type": "code",
   "execution_count": 9,
   "id": "078bbe8e",
   "metadata": {},
   "outputs": [],
   "source": [
    "#5. Create a 5x2x3 3-dimensional array with all values equaling 1.\n",
    "#Assign the array to variable \"b\"\n",
    "b = np.ones((5,2,3))"
   ]
  },
  {
   "cell_type": "code",
   "execution_count": 10,
   "id": "4d6bf29c",
   "metadata": {},
   "outputs": [
    {
     "data": {
      "text/plain": [
       "array([[[1., 1., 1.],\n",
       "        [1., 1., 1.]],\n",
       "\n",
       "       [[1., 1., 1.],\n",
       "        [1., 1., 1.]],\n",
       "\n",
       "       [[1., 1., 1.],\n",
       "        [1., 1., 1.]],\n",
       "\n",
       "       [[1., 1., 1.],\n",
       "        [1., 1., 1.]],\n",
       "\n",
       "       [[1., 1., 1.],\n",
       "        [1., 1., 1.]]])"
      ]
     },
     "execution_count": 10,
     "metadata": {},
     "output_type": "execute_result"
    }
   ],
   "source": [
    "#6. Print b.\n",
    "b"
   ]
  },
  {
   "cell_type": "code",
   "execution_count": 11,
   "id": "0e6b072a",
   "metadata": {},
   "outputs": [
    {
     "data": {
      "text/plain": [
       "True"
      ]
     },
     "execution_count": 11,
     "metadata": {},
     "output_type": "execute_result"
    }
   ],
   "source": [
    "#7. Do a and b have the same size? How do you prove that in Python code?\n",
    "a.size == b.size"
   ]
  },
  {
   "cell_type": "code",
   "execution_count": 12,
   "id": "65f8a7c5",
   "metadata": {},
   "outputs": [],
   "source": [
    "#8. Are you able to add a and b? Why or why not?\n",
    "#ab = a + b\n",
    "#operands could not be broadcast together with shapes (2,3,5) (5,2,3) "
   ]
  },
  {
   "cell_type": "code",
   "execution_count": 13,
   "id": "275db49b",
   "metadata": {},
   "outputs": [
    {
     "data": {
      "text/plain": [
       "(5, 2, 3)"
      ]
     },
     "execution_count": 13,
     "metadata": {},
     "output_type": "execute_result"
    }
   ],
   "source": [
    "b.shape"
   ]
  },
  {
   "cell_type": "code",
   "execution_count": 14,
   "id": "92c205ea",
   "metadata": {},
   "outputs": [],
   "source": [
    "#9. Transpose b so that it has the same structure of a (i.e. become a 2x3x5 array). Assign the transposed array to varialbe \"c\".\n",
    "c=np.transpose(b, (1, 2, 0))\n"
   ]
  },
  {
   "cell_type": "code",
   "execution_count": 15,
   "id": "2e65ba64",
   "metadata": {},
   "outputs": [
    {
     "data": {
      "text/plain": [
       "array([[[1.54122143, 1.29394776, 1.39433515, 1.98615522, 1.2438442 ],\n",
       "        [1.92123349, 1.92361391, 1.17855195, 1.53843505, 1.65797333],\n",
       "        [1.54238632, 1.81519148, 1.13468008, 1.35685224, 1.09328805]],\n",
       "\n",
       "       [[1.78708453, 1.32906167, 1.49241609, 1.4902423 , 1.06147967],\n",
       "        [1.67899252, 1.86031725, 1.82226614, 1.33009282, 1.34786725],\n",
       "        [1.69910859, 1.57237564, 1.48789653, 1.94614846, 1.15348179]]])"
      ]
     },
     "execution_count": 15,
     "metadata": {},
     "output_type": "execute_result"
    }
   ],
   "source": [
    "#10. Try to add a and c. Now it should work. Assign the sum to varialbe \"d\". But why does it work now?\n",
    "d=a+c\n",
    "d"
   ]
  },
  {
   "cell_type": "code",
   "execution_count": 16,
   "id": "2f7e9e5a",
   "metadata": {},
   "outputs": [
    {
     "name": "stdout",
     "output_type": "stream",
     "text": [
      "[[[0.54122143 0.29394776 0.39433515 0.98615522 0.2438442 ]\n",
      "  [0.92123349 0.92361391 0.17855195 0.53843505 0.65797333]\n",
      "  [0.54238632 0.81519148 0.13468008 0.35685224 0.09328805]]\n",
      "\n",
      " [[0.78708453 0.32906167 0.49241609 0.4902423  0.06147967]\n",
      "  [0.67899252 0.86031725 0.82226614 0.33009282 0.34786725]\n",
      "  [0.69910859 0.57237564 0.48789653 0.94614846 0.15348179]]]\n",
      "[[[1.54122143 1.29394776 1.39433515 1.98615522 1.2438442 ]\n",
      "  [1.92123349 1.92361391 1.17855195 1.53843505 1.65797333]\n",
      "  [1.54238632 1.81519148 1.13468008 1.35685224 1.09328805]]\n",
      "\n",
      " [[1.78708453 1.32906167 1.49241609 1.4902423  1.06147967]\n",
      "  [1.67899252 1.86031725 1.82226614 1.33009282 1.34786725]\n",
      "  [1.69910859 1.57237564 1.48789653 1.94614846 1.15348179]]]\n"
     ]
    }
   ],
   "source": [
    "#11. Print a and d.\n",
    "#Notice the difference and relation of the two array in terms of the values? Explain.\n",
    "#It is a plus 1 \n",
    "print(a)\n",
    "print(d)\n"
   ]
  },
  {
   "cell_type": "code",
   "execution_count": 17,
   "id": "e0b55606",
   "metadata": {},
   "outputs": [
    {
     "data": {
      "text/plain": [
       "array([[[0.54122143, 0.29394776, 0.39433515, 0.98615522, 0.2438442 ],\n",
       "        [0.92123349, 0.92361391, 0.17855195, 0.53843505, 0.65797333],\n",
       "        [0.54238632, 0.81519148, 0.13468008, 0.35685224, 0.09328805]],\n",
       "\n",
       "       [[0.78708453, 0.32906167, 0.49241609, 0.4902423 , 0.06147967],\n",
       "        [0.67899252, 0.86031725, 0.82226614, 0.33009282, 0.34786725],\n",
       "        [0.69910859, 0.57237564, 0.48789653, 0.94614846, 0.15348179]]])"
      ]
     },
     "execution_count": 17,
     "metadata": {},
     "output_type": "execute_result"
    }
   ],
   "source": [
    "#12. Multiply a and c. Assign the result to e.\n",
    "e=a*c\n",
    "e"
   ]
  },
  {
   "cell_type": "code",
   "execution_count": 18,
   "id": "4e93aad0",
   "metadata": {},
   "outputs": [
    {
     "data": {
      "text/plain": [
       "array([[[ True,  True,  True,  True,  True],\n",
       "        [ True,  True,  True,  True,  True],\n",
       "        [ True,  True,  True,  True,  True]],\n",
       "\n",
       "       [[ True,  True,  True,  True,  True],\n",
       "        [ True,  True,  True,  True,  True],\n",
       "        [ True,  True,  True,  True,  True]]])"
      ]
     },
     "execution_count": 18,
     "metadata": {},
     "output_type": "execute_result"
    }
   ],
   "source": [
    "#13. Does e equal to a? Why or why not?\n",
    "a==e"
   ]
  },
  {
   "cell_type": "code",
   "execution_count": 19,
   "id": "78f2b74f",
   "metadata": {},
   "outputs": [
    {
     "name": "stdout",
     "output_type": "stream",
     "text": [
      "1.986155221499008\n",
      "1.0614796713857448\n",
      "1.5226846978165602\n"
     ]
    }
   ],
   "source": [
    "#14. Identify the max, min, and mean values in d. Assign those values to variables \"d_max\", \"d_min\", and \"d_mean\"\n",
    "d_max=np.max(d)\n",
    "d_min=np.min(d)\n",
    "d_mean=np.mean(d)\n",
    "print(d_max)\n",
    "print(d_min)\n",
    "print(d_mean)"
   ]
  },
  {
   "cell_type": "code",
   "execution_count": 20,
   "id": "507801cd",
   "metadata": {},
   "outputs": [
    {
     "data": {
      "text/plain": [
       "array([[[0.54122143, 0.29394776, 0.39433515, 0.98615522, 0.2438442 ],\n",
       "        [0.92123349, 0.92361391, 0.17855195, 0.53843505, 0.65797333],\n",
       "        [0.54238632, 0.81519148, 0.13468008, 0.35685224, 0.09328805]],\n",
       "\n",
       "       [[0.78708453, 0.32906167, 0.49241609, 0.4902423 , 0.06147967],\n",
       "        [0.67899252, 0.86031725, 0.82226614, 0.33009282, 0.34786725],\n",
       "        [0.69910859, 0.57237564, 0.48789653, 0.94614846, 0.15348179]]])"
      ]
     },
     "execution_count": 20,
     "metadata": {},
     "output_type": "execute_result"
    }
   ],
   "source": [
    "#15. Now we want to label the values in d. First create an empty array \"f\" with the same shape (i.e. 2x3x5) as d using `np.empty`.\n",
    "f = np.empty((2,3,5))\n",
    "f"
   ]
  },
  {
   "cell_type": "code",
   "execution_count": 21,
   "id": "4288f269",
   "metadata": {},
   "outputs": [
    {
     "data": {
      "text/plain": [
       "\"\\n#16. Populate the values in f. For each value in d, if it's larger than d_min but smaller than d_mean, assign 25 to the corresponding value in f.\\nIf a value in d is larger than d_mean but smaller than d_max, assign 75 to the corresponding value in f.\\nIf a value equals to d_mean, assign 50 to the corresponding value in f.\\nAssign 0 to the corresponding value(s) in f for d_min in d.\\nAssign 100 to the corresponding value(s) in f for d_max in d.\\nIn the end, f should have only the following values: 0, 25, 50, 75, and 100.\\nNote: you don't have to use Numpy in this question.\\n\""
      ]
     },
     "execution_count": 21,
     "metadata": {},
     "output_type": "execute_result"
    }
   ],
   "source": [
    "\"\"\"\n",
    "#16. Populate the values in f. For each value in d, if it's larger than d_min but smaller than d_mean, assign 25 to the corresponding value in f.\n",
    "If a value in d is larger than d_mean but smaller than d_max, assign 75 to the corresponding value in f.\n",
    "If a value equals to d_mean, assign 50 to the corresponding value in f.\n",
    "Assign 0 to the corresponding value(s) in f for d_min in d.\n",
    "Assign 100 to the corresponding value(s) in f for d_max in d.\n",
    "In the end, f should have only the following values: 0, 25, 50, 75, and 100.\n",
    "Note: you don't have to use Numpy in this question.\n",
    "\"\"\""
   ]
  },
  {
   "cell_type": "code",
   "execution_count": 25,
   "id": "de2ac0e3",
   "metadata": {},
   "outputs": [
    {
     "data": {
      "text/plain": [
       "array([[[ 75,  25,  25, 100,  25],\n",
       "        [ 75,  75,  25,  75,  75],\n",
       "        [ 75,  75,  25,  25,  25]],\n",
       "\n",
       "       [[ 75,  25,  25,  25,   0],\n",
       "        [ 75,  75,  75,  25,  25],\n",
       "        [ 75,  75,  25,  75,  25]]])"
      ]
     },
     "execution_count": 25,
     "metadata": {},
     "output_type": "execute_result"
    }
   ],
   "source": [
    "f=np.where(d==d_min,0,\n",
    "          np.where((d> d_min)&(d<d_mean),25,\n",
    "                  np.where(d==d_mean,50,\n",
    "                          np.where((d> d_mean)&(d<d_max),75,100)\n",
    "                          )\n",
    "                  )\n",
    "          )\n",
    "f"
   ]
  },
  {
   "cell_type": "code",
   "execution_count": null,
   "id": "6d6f4c51",
   "metadata": {},
   "outputs": [],
   "source": [
    "\"\"\"\n",
    "#17. Print d and f. Do you have your expected f?\n",
    "For instance, if your d is:\n",
    "array([[[1.85836099, 1.67064465, 1.62576044, 1.40243961, 1.88454931],\n",
    "        [1.75354326, 1.69403643, 1.36729252, 1.61415071, 1.12104981],\n",
    "        [1.72201435, 1.1862918 , 1.87078449, 1.7726778 , 1.88180042]],\n",
    "\n",
    "       [[1.44747908, 1.31673383, 1.02000951, 1.52218947, 1.97066381],\n",
    "        [1.79129243, 1.74983003, 1.96028037, 1.85166831, 1.65450881],\n",
    "        [1.18068344, 1.9587381 , 1.00656599, 1.93402165, 1.73514584]]])\n",
    "\n",
    "Your f should be:\n",
    "array([[[ 75.,  75.,  75.,  25.,  75.],\n",
    "        [ 75.,  75.,  25.,  25.,  25.],\n",
    "        [ 75.,  25.,  75.,  75.,  75.]],\n",
    "\n",
    "       [[ 25.,  25.,  25.,  25., 100.],\n",
    "        [ 75.,  75.,  75.,  75.,  75.],\n",
    "        [ 25.,  75.,   0.,  75.,  75.]]])\n",
    "\"\"\""
   ]
  },
  {
   "cell_type": "code",
   "execution_count": 26,
   "id": "3483ae2f",
   "metadata": {},
   "outputs": [
    {
     "name": "stdout",
     "output_type": "stream",
     "text": [
      "[[[ 75  25  25 100  25]\n",
      "  [ 75  75  25  75  75]\n",
      "  [ 75  75  25  25  25]]\n",
      "\n",
      " [[ 75  25  25  25   0]\n",
      "  [ 75  75  75  25  25]\n",
      "  [ 75  75  25  75  25]]]\n"
     ]
    }
   ],
   "source": [
    "for ind, sub_arr in enumerate(d):\n",
    "#     print(ind, sub_arr)\n",
    "#     print()\n",
    "    for ind_sub, sub_sub_arr in enumerate(sub_arr):\n",
    "#         print(ind_sub, sub_sub_arr)\n",
    "#         print()\n",
    "        for ind_sub_sub, element in enumerate(sub_sub_arr):\n",
    "#             print(ind_sub_sub, element)\n",
    "            if element == d_min:\n",
    "                f[ind][ind_sub][ind_sub_sub] = 0\n",
    "            elif element > d_min and element < d_mean:\n",
    "                f[ind][ind_sub][ind_sub_sub] = 25\n",
    "            elif element == d_mean:\n",
    "                f[ind][ind_sub][ind_sub_sub] = 50\n",
    "            elif element > d_mean and element < d_max:\n",
    "                f[ind][ind_sub][ind_sub_sub] = 75\n",
    "            else:\n",
    "                f[ind][ind_sub][ind_sub_sub] = 100\n",
    "\n",
    "print(f)"
   ]
  },
  {
   "cell_type": "code",
   "execution_count": null,
   "id": "bb3f33e0",
   "metadata": {},
   "outputs": [],
   "source": [
    "\"\"\"\n",
    "#18. Bonus question: instead of using numbers (i.e. 0, 25, 50, 75, and 100), how to use string values \n",
    "(\"A\", \"B\", \"C\", \"D\", and \"E\") to label the array elements? You are expecting the result to be:\n",
    "array([[[ 'D',  'D',  'D',  'B',  'D'],\n",
    "        [ 'D',  'D',  'B',  'B',  'B'],\n",
    "        [ 'D',  'B',  'D',  'D',  'D']],\n",
    "\n",
    "       [[ 'B',  'B',  'B',  'B',  'E'],\n",
    "        [ 'D',  'D',  'D',  'D',  'D'],\n",
    "        [ 'B',  'D',   'A',  'D', 'D']]])\n",
    "Again, you don't need Numpy in this question.\n",
    "\"\"\""
   ]
  },
  {
   "cell_type": "code",
   "execution_count": 29,
   "id": "e354d5c7",
   "metadata": {},
   "outputs": [
    {
     "ename": "NameError",
     "evalue": "name 'D' is not defined",
     "output_type": "error",
     "traceback": [
      "\u001b[1;31m---------------------------------------------------------------------------\u001b[0m",
      "\u001b[1;31mNameError\u001b[0m                                 Traceback (most recent call last)",
      "\u001b[1;32m<ipython-input-29-32b31b78fe33>\u001b[0m in \u001b[0;36m<module>\u001b[1;34m\u001b[0m\n\u001b[0;32m     11\u001b[0m                 \u001b[0mg\u001b[0m\u001b[1;33m[\u001b[0m\u001b[0mind\u001b[0m\u001b[1;33m]\u001b[0m\u001b[1;33m[\u001b[0m\u001b[0mind_sub\u001b[0m\u001b[1;33m]\u001b[0m\u001b[1;33m[\u001b[0m\u001b[0mind_sub_sub\u001b[0m\u001b[1;33m]\u001b[0m \u001b[1;33m=\u001b[0m\u001b[0mC\u001b[0m\u001b[1;33m\u001b[0m\u001b[1;33m\u001b[0m\u001b[0m\n\u001b[0;32m     12\u001b[0m             \u001b[1;32melif\u001b[0m \u001b[0melement\u001b[0m \u001b[1;33m>\u001b[0m \u001b[0md_mean\u001b[0m \u001b[1;32mand\u001b[0m \u001b[0melement\u001b[0m \u001b[1;33m<\u001b[0m \u001b[0md_max\u001b[0m\u001b[1;33m:\u001b[0m\u001b[1;33m\u001b[0m\u001b[1;33m\u001b[0m\u001b[0m\n\u001b[1;32m---> 13\u001b[1;33m                 \u001b[0mg\u001b[0m\u001b[1;33m[\u001b[0m\u001b[0mind\u001b[0m\u001b[1;33m]\u001b[0m\u001b[1;33m[\u001b[0m\u001b[0mind_sub\u001b[0m\u001b[1;33m]\u001b[0m\u001b[1;33m[\u001b[0m\u001b[0mind_sub_sub\u001b[0m\u001b[1;33m]\u001b[0m \u001b[1;33m=\u001b[0m\u001b[0mD\u001b[0m\u001b[1;33m\u001b[0m\u001b[1;33m\u001b[0m\u001b[0m\n\u001b[0m\u001b[0;32m     14\u001b[0m             \u001b[1;32melse\u001b[0m\u001b[1;33m:\u001b[0m\u001b[1;33m\u001b[0m\u001b[1;33m\u001b[0m\u001b[0m\n\u001b[0;32m     15\u001b[0m                 \u001b[0mg\u001b[0m\u001b[1;33m[\u001b[0m\u001b[0mind\u001b[0m\u001b[1;33m]\u001b[0m\u001b[1;33m[\u001b[0m\u001b[0mind_sub\u001b[0m\u001b[1;33m]\u001b[0m\u001b[1;33m[\u001b[0m\u001b[0mind_sub_sub\u001b[0m\u001b[1;33m]\u001b[0m \u001b[1;33m=\u001b[0m\u001b[0mE\u001b[0m\u001b[1;33m\u001b[0m\u001b[1;33m\u001b[0m\u001b[0m\n",
      "\u001b[1;31mNameError\u001b[0m: name 'D' is not defined"
     ]
    }
   ],
   "source": [
    "for ind, sub_arr in enumerate(d):\n",
    "    g = np.empty((2,3,5), dtype=\"O\")\n",
    "\n",
    "    for ind_sub, sub_sub_arr in enumerate(sub_arr):\n",
    "        for ind_sub_sub, element in enumerate(sub_sub_arr):\n",
    "            if element == d_min:\n",
    "                g[ind][ind_sub][ind_sub_sub] = A\n",
    "            elif element > d_min and element < d_mean:\n",
    "                g[ind][ind_sub][ind_sub_sub] = B\n",
    "            elif element == d_mean:\n",
    "                g[ind][ind_sub][ind_sub_sub] = C\n",
    "            elif element > d_mean and element < d_max:\n",
    "                g[ind][ind_sub][ind_sub_sub] = D\n",
    "            else:\n",
    "                g[ind][ind_sub][ind_sub_sub] = E \n",
    "print(g)"
   ]
  },
  {
   "cell_type": "code",
   "execution_count": null,
   "id": "b174ff5f",
   "metadata": {},
   "outputs": [],
   "source": []
  },
  {
   "cell_type": "code",
   "execution_count": null,
   "id": "13f75779",
   "metadata": {},
   "outputs": [],
   "source": []
  },
  {
   "cell_type": "code",
   "execution_count": null,
   "id": "cee88101",
   "metadata": {},
   "outputs": [],
   "source": []
  },
  {
   "cell_type": "code",
   "execution_count": null,
   "id": "30d3c662",
   "metadata": {},
   "outputs": [],
   "source": []
  },
  {
   "cell_type": "code",
   "execution_count": null,
   "id": "7179c2e5",
   "metadata": {},
   "outputs": [],
   "source": []
  }
 ],
 "metadata": {
  "kernelspec": {
   "display_name": "Python 3",
   "language": "python",
   "name": "python3"
  },
  "language_info": {
   "codemirror_mode": {
    "name": "ipython",
    "version": 3
   },
   "file_extension": ".py",
   "mimetype": "text/x-python",
   "name": "python",
   "nbconvert_exporter": "python",
   "pygments_lexer": "ipython3",
   "version": "3.8.8"
  }
 },
 "nbformat": 4,
 "nbformat_minor": 5
}
